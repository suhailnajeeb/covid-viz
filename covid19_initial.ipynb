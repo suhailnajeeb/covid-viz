{
  "nbformat": 4,
  "nbformat_minor": 0,
  "metadata": {
    "colab": {
      "name": "covid19-initial.ipynb",
      "provenance": [],
      "authorship_tag": "ABX9TyMQPWI0r8gGMw4NGDwuZ66b",
      "include_colab_link": true
    },
    "kernelspec": {
      "name": "python3",
      "display_name": "Python 3"
    }
  },
  "cells": [
    {
      "cell_type": "markdown",
      "metadata": {
        "id": "view-in-github",
        "colab_type": "text"
      },
      "source": [
        "<a href=\"https://colab.research.google.com/github/suhailnajeeb/covid19-viz/blob/master/covid19_initial.ipynb\" target=\"_parent\"><img src=\"https://colab.research.google.com/assets/colab-badge.svg\" alt=\"Open In Colab\"/></a>"
      ]
    },
    {
      "cell_type": "code",
      "metadata": {
        "id": "jf7oS5g_ETAG",
        "colab_type": "code",
        "outputId": "0468e4cc-26c3-44b3-ae8c-9a295071c0fd",
        "colab": {
          "base_uri": "https://localhost:8080/",
          "height": 107
        }
      },
      "source": [
        "#importing data\n",
        "!git clone \"https://github.com/CSSEGISandData/COVID-19.git\""
      ],
      "execution_count": 1,
      "outputs": [
        {
          "output_type": "stream",
          "text": [
            "Cloning into 'COVID-19'...\n",
            "remote: Enumerating objects: 14785, done.\u001b[K\n",
            "remote: Total 14785 (delta 0), reused 0 (delta 0), pack-reused 14785\u001b[K\n",
            "Receiving objects: 100% (14785/14785), 47.28 MiB | 41.81 MiB/s, done.\n",
            "Resolving deltas: 100% (7114/7114), done.\n"
          ],
          "name": "stdout"
        }
      ]
    },
    {
      "cell_type": "code",
      "metadata": {
        "id": "Ir4JMaIPqsV7",
        "colab_type": "code",
        "colab": {}
      },
      "source": [
        "#Library Imports\n",
        "\n",
        "import pandas as pd\n",
        "import numpy as np\n",
        "import os\n",
        "import matplotlib.pyplot as plt\n",
        "from datetime import datetime\n",
        "import matplotlib.dates as mdates\n"
      ],
      "execution_count": 0,
      "outputs": []
    },
    {
      "cell_type": "code",
      "metadata": {
        "id": "fizrxq-IqvvY",
        "colab_type": "code",
        "colab": {}
      },
      "source": [
        "# Loading the CSV File containing the confirmed cases\n",
        "\n",
        "confirmed_csv = 'COVID-19/csse_covid_19_data/csse_covid_19_time_series/time_series_19-covid-Confirmed.csv'\n",
        "df = pd.read_csv(confirmed_csv)"
      ],
      "execution_count": 0,
      "outputs": []
    },
    {
      "cell_type": "code",
      "metadata": {
        "id": "fe5uAbbzrTKx",
        "colab_type": "code",
        "colab": {}
      },
      "source": [
        "# Get a list of all the Countries/Regions in the Csv file: \n",
        "\n",
        "countries = np.unique(df['Country/Region'].values)"
      ],
      "execution_count": 0,
      "outputs": []
    },
    {
      "cell_type": "code",
      "metadata": {
        "id": "imQuD-8HqzP8",
        "colab_type": "code",
        "colab": {}
      },
      "source": [
        "country = countries[1]"
      ],
      "execution_count": 0,
      "outputs": []
    },
    {
      "cell_type": "code",
      "metadata": {
        "id": "XC6hi98DtMG6",
        "colab_type": "code",
        "colab": {}
      },
      "source": [
        "# now lets define a function to wrap it up:\n",
        "\n",
        "def plot_country(df, country):\n",
        "  country_df = df[df['Country/Region'] == country]\n",
        "  dates = country_df.columns[4:]\n",
        "  dates = [datetime.strptime(d,\"%m/%d/%y\").date() for d in dates]\n",
        "  patients = country_df.values[0][4:]\n",
        "  plt.figure(figsize=(20,5))\n",
        "  ax = plt.gca()\n",
        "  formatter = mdates.DateFormatter(\"%Y-%m-%d\")\n",
        "  ax.xaxis.set_major_formatter(formatter)\n",
        "  ax.xaxis.set_major_locator(mdates.DayLocator(interval=5))\n",
        "  plt.bar(dates, patients)\n",
        "  plt.title('No of confirmed cases for : ' + country)"
      ],
      "execution_count": 0,
      "outputs": []
    },
    {
      "cell_type": "code",
      "metadata": {
        "id": "5kO7E1fd1ffz",
        "colab_type": "code",
        "colab": {}
      },
      "source": [
        "plot_country(df, country)"
      ],
      "execution_count": 0,
      "outputs": []
    },
    {
      "cell_type": "code",
      "metadata": {
        "id": "cm0xJHlp2Xfd",
        "colab_type": "code",
        "colab": {}
      },
      "source": [
        ""
      ],
      "execution_count": 0,
      "outputs": []
    }
  ]
}